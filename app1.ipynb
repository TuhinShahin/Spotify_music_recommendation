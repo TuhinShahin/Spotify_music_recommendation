{
 "cells": [
  {
   "cell_type": "code",
   "execution_count": 1,
   "metadata": {},
   "outputs": [],
   "source": [
    "import pickle\n",
    "import streamlit as st\n",
    "import spotipy\n",
    "from spotipy.oauth2 import SpotifyClientCredentials\n"
   ]
  },
  {
   "cell_type": "code",
   "execution_count": 2,
   "metadata": {},
   "outputs": [],
   "source": [
    "#creating spotify client id and secret according to the requirements \n",
    "CLIENT_ID = \"9a54f2b1cf984d3eb75a4bf962bf3aa6\"\n",
    "CLIENT_SECRET = \"df8aebeff47a418197aa91205451abeb\""
   ]
  },
  {
   "cell_type": "code",
   "execution_count": 3,
   "metadata": {},
   "outputs": [],
   "source": [
    "# Initialize the Spotify client\n",
    "client_credentials_manager = SpotifyClientCredentials(client_id=CLIENT_ID, client_secret=CLIENT_SECRET)\n",
    "sp = spotipy.Spotify(client_credentials_manager=client_credentials_manager)\n",
    "\n",
    "def get_song_album_cover_url(song_name, artist_name):\n",
    "    search_query = f\"track:{song_name} artist:{artist_name}\"\n",
    "    results = sp.search(q=search_query, type=\"track\")\n",
    "\n",
    "    if results and results[\"tracks\"][\"items\"]:\n",
    "        track = results[\"tracks\"][\"items\"][0]\n",
    "        album_cover_url = track[\"album\"][\"images\"][0][\"url\"]\n",
    "        print(album_cover_url)\n",
    "        return album_cover_url\n",
    "    else:\n",
    "        return \"https://i.postimg.cc/0QNxYz4V/social.png\""
   ]
  },
  {
   "cell_type": "code",
   "execution_count": 4,
   "metadata": {},
   "outputs": [],
   "source": [
    "def recommend(song):\n",
    "    index = music[music['song'] == song].index[0]\n",
    "    distances = sorted(list(enumerate(similarity[index])), reverse=True, key=lambda x: x[1])\n",
    "    recommended_music_names = []\n",
    "    recommended_music_posters = []\n",
    "    for i in distances[1:6]:\n",
    "        # fetch the movie poster\n",
    "        artist = music.iloc[i[0]].artist\n",
    "        print(artist)\n",
    "        print(music.iloc[i[0]].song)\n",
    "        recommended_music_posters.append(get_song_album_cover_url(music.iloc[i[0]].song, artist))\n",
    "        recommended_music_names.append(music.iloc[i[0]].song)\n",
    "\n",
    "    return recommended_music_names,recommended_music_posters"
   ]
  },
  {
   "cell_type": "code",
   "execution_count": 5,
   "metadata": {},
   "outputs": [
    {
     "name": "stderr",
     "output_type": "stream",
     "text": [
      "2024-04-15 19:50:28.846 \n",
      "  \u001b[33m\u001b[1mWarning:\u001b[0m to view this Streamlit app on a browser, run it with the following\n",
      "  command:\n",
      "\n",
      "    streamlit run C:\\Users\\Md Shahin\\AppData\\Local\\Packages\\PythonSoftwareFoundation.Python.3.12_qbz5n2kfra8p0\\LocalCache\\local-packages\\Python312\\site-packages\\ipykernel_launcher.py [ARGUMENTS]\n"
     ]
    }
   ],
   "source": [
    "st.header('Music Recommender System')\n",
    "music = pickle.load(open('df.pkl','rb'))\n",
    "similarity = pickle.load(open('similarity.pkl','rb'))\n",
    "\n",
    "music_list = music['song'].values\n",
    "selected_movie = st.selectbox(\n",
    "    \"Type or select a song from the dropdown\",\n",
    "    music_list\n",
    ")"
   ]
  },
  {
   "cell_type": "code",
   "execution_count": 6,
   "metadata": {},
   "outputs": [],
   "source": [
    "st.header('Music Recommender System')\n",
    "music = pickle.load(open('df.pkl','rb'))\n",
    "similarity = pickle.load(open('similarity.pkl','rb'))\n",
    "\n",
    "music_list = music['song'].values\n",
    "selected_movie = st.selectbox(\n",
    "    \"Type or select a song from the dropdown\",\n",
    "    music_list\n",
    ")\n",
    "\n",
    "if st.button('Show Recommendation'):\n",
    "    recommended_music_names,recommended_music_posters = recommend(selected_movie)\n",
    "    col1, col2, col3, col4, col5= st.columns(5)\n",
    "    with col1:\n",
    "        st.text(recommended_music_names[0])\n",
    "        st.image(recommended_music_posters[0])\n",
    "    with col2:\n",
    "        st.text(recommended_music_names[1])\n",
    "        st.image(recommended_music_posters[1])\n",
    "\n",
    "    with col3:\n",
    "        st.text(recommended_music_names[2])\n",
    "        st.image(recommended_music_posters[2])\n",
    "    with col4:\n",
    "        st.text(recommended_music_names[3])\n",
    "        st.image(recommended_music_posters[3])\n",
    "    with col5:\n",
    "        st.text(recommended_music_names[4])\n",
    "        st.image(recommended_music_posters[4])"
   ]
  }
 ],
 "metadata": {
  "kernelspec": {
   "display_name": "Python 3",
   "language": "python",
   "name": "python3"
  },
  "language_info": {
   "codemirror_mode": {
    "name": "ipython",
    "version": 3
   },
   "file_extension": ".py",
   "mimetype": "text/x-python",
   "name": "python",
   "nbconvert_exporter": "python",
   "pygments_lexer": "ipython3",
   "version": "3.12.3"
  }
 },
 "nbformat": 4,
 "nbformat_minor": 2
}
